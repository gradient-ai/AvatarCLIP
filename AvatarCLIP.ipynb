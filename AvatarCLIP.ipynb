{
 "cells": [
  {
   "cell_type": "markdown",
   "source": [
    "# AvatarCLIP: Zero-Shot Text-Driven Generation and Animation of 3D Avatars\n",
    "\n",
    "Originally authored by Fangzhou Hong, Mingyuan Zhang, Liang Pan, Zhongang Cai, Lei Yang, Ziwei Liu\n",
    "This notebook is an updated version of their public demo (see links below). \n",
    "\n",
    "This adapted notebook provides a quick example of avatar shape sculpting and texture generation part described in their paper.\n",
    "\n",
    "For the coarse shape generation and motion generation, please refer to their official Github repo (https://github.com/hongfz16/AvatarCLIP).\n",
    "\n",
    "For more information, feel free to visit their project page (https://hongfz16.github.io/projects/AvatarCLIP.html).\n",
    "\n",
    "For the Paperspace Notebook repo and fork of the project repo, please visit "
   ],
   "metadata": {
    "id": "WpMyzgQXY5kO"
   }
  },
  {
   "cell_type": "code",
   "execution_count": 11,
   "source": [
    "# @title Licensed under the MIT License\n",
    "\n",
    "# Copyright (c) 2021 Katherine Crowson\n",
    "\n",
    "# Permission is hereby granted, free of charge, to any person obtaining a copy\n",
    "# of this software and associated documentation files (the \"Software\"), to deal\n",
    "# in the Software without restriction, including without limitation the rights\n",
    "# to use, copy, modify, merge, publish, distribute, sublicense, and/or sell\n",
    "# copies of the Software, and to permit persons to whom the Software is\n",
    "# furnished to do so, subject to the following conditions:\n",
    "\n",
    "# The above copyright notice and this permission notice shall be included in\n",
    "# all copies or substantial portions of the Software.\n",
    "\n",
    "# THE SOFTWARE IS PROVIDED \"AS IS\", WITHOUT WARRANTY OF ANY KIND, EXPRESS OR\n",
    "# IMPLIED, INCLUDING BUT NOT LIMITED TO THE WARRANTIES OF MERCHANTABILITY,\n",
    "# FITNESS FOR A PARTICULAR PURPOSE AND NONINFRINGEMENT. IN NO EVENT SHALL THE\n",
    "# AUTHORS OR COPYRIGHT HOLDERS BE LIABLE FOR ANY CLAIM, DAMAGES OR OTHER\n",
    "# LIABILITY, WHETHER IN AN ACTION OF CONTRACT, TORT OR OTHERWISE, ARISING FROM,\n",
    "# OUT OF OR IN CONNECTION WITH THE SOFTWARE OR THE USE OR OTHER DEALINGS IN\n",
    "# THE SOFTWARE."
   ],
   "outputs": [],
   "metadata": {
    "cellView": "form",
    "execution": {
     "iopub.execute_input": "2022-05-31T21:10:24.244706Z",
     "iopub.status.busy": "2022-05-31T21:10:24.244240Z",
     "iopub.status.idle": "2022-05-31T21:10:24.247685Z",
     "shell.execute_reply": "2022-05-31T21:10:24.247073Z",
     "shell.execute_reply.started": "2022-05-31T21:10:24.244687Z"
    },
    "id": "PUkowKUqYy3s"
   }
  },
  {
   "cell_type": "code",
   "execution_count": null,
   "source": [
    "# @title Setup the Environment: 1. Common Dependencies\n",
    "!git clone https://github.com/hongfz16/AvatarCLIP.git\n",
    "!git clone https://github.com/hongfz16/neural_renderer.git\n",
    "!pip install -r AvatarCLIP/requirements.txt"
   ],
   "outputs": [],
   "metadata": {
    "cellView": "form",
    "colab": {
     "base_uri": "https://localhost:8080/",
     "height": 1000
    },
    "execution": {
     "iopub.execute_input": "2022-06-03T21:35:05.735739Z",
     "iopub.status.busy": "2022-06-03T21:35:05.735191Z",
     "iopub.status.idle": "2022-06-03T21:35:38.274890Z",
     "shell.execute_reply": "2022-06-03T21:35:38.274436Z",
     "shell.execute_reply.started": "2022-06-03T21:35:05.735671Z"
    },
    "id": "dMsnmf-ObQPV",
    "outputId": "367eb021-344a-4dec-a2d2-f81c4f36f866"
   }
  },
  {
   "cell_type": "code",
   "execution_count": 1,
   "source": [
    "# @title Setup the Environment: 2. Modify neural_renderer\n",
    "with open('neural_renderer/neural_renderer/perspective.py', 'r') as f:\n",
    "  lines = f.readlines()\n",
    "lines.insert(19, '    x[z<=0] = 0\\n')\n",
    "lines.insert(20, '    y[z<=0] = 0\\n')\n",
    "lines.insert(21, '    z[z<=0] = 0\\n')\n",
    "with open('neural_renderer/neural_renderer/perspective.py', 'w') as f:\n",
    "  for l in lines:\n",
    "    f.write(l)"
   ],
   "outputs": [],
   "metadata": {
    "cellView": "form",
    "execution": {
     "iopub.execute_input": "2022-06-03T21:47:46.191785Z",
     "iopub.status.busy": "2022-06-03T21:47:46.191578Z",
     "iopub.status.idle": "2022-06-03T21:47:46.235852Z",
     "shell.execute_reply": "2022-06-03T21:47:46.235415Z",
     "shell.execute_reply.started": "2022-06-03T21:47:46.191730Z"
    },
    "id": "2lQATO--fCpY"
   }
  },
  {
   "cell_type": "code",
   "execution_count": null,
   "source": [
    "# @title Setup the Environment: 3. some additional housekeeping and imports\n",
    "!pip install -U numpy\n",
    "!pip install scikit-image\n",
    "!pip install git+https://github.com/hongfz16/neural_renderer\n"
   ],
   "outputs": [],
   "metadata": {
    "execution": {
     "iopub.execute_input": "2022-06-03T21:35:38.285809Z",
     "iopub.status.busy": "2022-06-03T21:35:38.285629Z",
     "iopub.status.idle": "2022-06-03T21:35:49.744884Z",
     "shell.execute_reply": "2022-06-03T21:35:49.744276Z",
     "shell.execute_reply.started": "2022-06-03T21:35:38.285795Z"
    }
   }
  },
  {
   "cell_type": "code",
   "execution_count": null,
   "source": [
    "# Use this if you have a terminal, put it in a terminal\n",
    "# !apt-get update && apt-get --yes install libgl1\n",
    "# !pip install ffmpeg\n",
    "\n",
    "# Use this on free notebook\n",
    "!pip install opencv-python-headless\n",
    "!pip install ffmpeg"
   ],
   "outputs": [],
   "metadata": {}
  },
  {
   "cell_type": "code",
   "execution_count": 2,
   "source": [
    "# @title Setup the Environment: 4. Compile neural_renderer\n",
    "%cd neural_renderer\n",
    "!python3 setup.py install\n",
    "%cd ..\n",
    "%cd AvatarCLIP/AvatarGen/AppearanceGen"
   ],
   "outputs": [
    {
     "output_type": "stream",
     "name": "stdout",
     "text": [
      "/notebooks/neural_renderer\n",
      "/notebooks\n",
      "/notebooks/AvatarCLIP/AvatarGen/AppearanceGen\n"
     ]
    }
   ],
   "metadata": {
    "cellView": "form",
    "colab": {
     "base_uri": "https://localhost:8080/"
    },
    "execution": {
     "iopub.execute_input": "2022-06-03T22:16:23.112269Z",
     "iopub.status.busy": "2022-06-03T22:16:23.111796Z",
     "iopub.status.idle": "2022-06-03T22:16:23.118625Z",
     "shell.execute_reply": "2022-06-03T22:16:23.118109Z",
     "shell.execute_reply.started": "2022-06-03T22:16:23.112246Z"
    },
    "id": "3Y49xKSfe_ya",
    "outputId": "52eb4f7a-4cb6-424d-c6a3-227158385438"
   }
  },
  {
   "cell_type": "markdown",
   "source": [
    "## Setup SMPL Models\n",
    "\n",
    "Please register and download SMPL models here(https://smpl.is.tue.mpg.de/). Create folders under AvatarCLIP and put SMPL_NEUTRAL.pkl under the folder as follows.\n",
    "\n",
    "```\n",
    "./AvatarCLIP/\n",
    "├── ...\n",
    "└── smpl_models/\n",
    "    └── smpl/\n",
    "        └── SMPL_NEUTRAL.pkl\n",
    "```"
   ],
   "metadata": {
    "id": "gnP7fh6B_bd_"
   }
  },
  {
   "cell_type": "markdown",
   "source": [
    "# Set up SMPL Models:\n",
    "\n",
    "First, go to https://smpl.is.tue.mpg.de/index.html and sign up. We cannot distribute SMPL to you, but you can download it by signing up. \n",
    "\n",
    "Second, go to https://smpl.is.tue.mpg.de/download.php and download SMPL_python_v.1.1.1.zip\n",
    "\n",
    "Third, upload it to this notebook\n",
    "\n",
    "Fourth, unzip it by running the following code in your terminal\n",
    "\n",
    "`unzip ../../../SMPL_python_v.1.1.1.zip`\n"
   ],
   "metadata": {
    "colab": {
     "base_uri": "https://localhost:8080/"
    },
    "execution": {
     "iopub.execute_input": "2022-06-03T22:16:25.585988Z",
     "iopub.status.busy": "2022-06-03T22:16:25.585671Z",
     "iopub.status.idle": "2022-06-03T22:16:25.992243Z",
     "shell.execute_reply": "2022-06-03T22:16:25.991714Z",
     "shell.execute_reply.started": "2022-06-03T22:16:25.585965Z"
    },
    "id": "kVrJ8514hVKJ",
    "outputId": "5e0ff79a-b4b7-4976-87b3-e5d14b402f05"
   }
  },
  {
   "cell_type": "code",
   "execution_count": 4,
   "source": [
    "#@title Import Necessary Modules\n",
    "# %cd /content/AvatarCLIP/AvatarGen/AppearanceGen\n",
    "import os\n",
    "import time\n",
    "import logging\n",
    "import argparse\n",
    "import random\n",
    "import numpy as np\n",
    "import cv2 as cv\n",
    "import trimesh\n",
    "import torch\n",
    "import torch.nn.functional as F\n",
    "from torchvision import transforms\n",
    "from torch.utils.tensorboard import SummaryWriter\n",
    "from shutil import copyfile\n",
    "from icecream import ic\n",
    "from tqdm import tqdm\n",
    "from pyhocon import ConfigFactory\n",
    "from models.dataset import Dataset\n",
    "from models.dataset import SMPL_Dataset\n",
    "from models.fields import RenderingNetwork, SDFNetwork, SingleVarianceNetwork, NeRF\n",
    "from models.renderer import NeuSRenderer\n",
    "from models.utils import lookat, random_eye, random_at, render_one_batch, batch_rodrigues\n",
    "from models.utils import sphere_coord, random_eye_normal, rgb2hsv, differentiable_histogram\n",
    "from models.utils import my_lbs, readOBJ\n",
    "import clip\n",
    "from smplx import build_layer\n",
    "import imageio\n",
    "\n",
    "to8b = lambda x : (255*np.clip(x,0,1)).astype(np.uint8)\n",
    "from main import Runner"
   ],
   "outputs": [],
   "metadata": {
    "cellView": "form",
    "colab": {
     "base_uri": "https://localhost:8080/"
    },
    "execution": {
     "iopub.execute_input": "2022-06-03T22:16:25.993528Z",
     "iopub.status.busy": "2022-06-03T22:16:25.993390Z",
     "iopub.status.idle": "2022-06-03T22:16:26.559261Z",
     "shell.execute_reply": "2022-06-03T22:16:26.558775Z",
     "shell.execute_reply.started": "2022-06-03T22:16:25.993510Z"
    },
    "id": "kby5QtDF1pK0",
    "outputId": "b6620747-3be9-42ee-d793-3b943ea087ef"
   }
  },
  {
   "cell_type": "code",
   "execution_count": 6,
   "source": [
    "#@title Input Appearance Description (e.g. Iron Man)\n",
    "AppearanceDescription = \"Saitama\" #@param {type:\"string\"}\n",
    "\n",
    "torch.set_default_tensor_type('torch.cuda.FloatTensor')\n",
    "FORMAT = \"[%(filename)s:%(lineno)s - %(funcName)20s() ] %(message)s\"\n",
    "logging.basicConfig(level=logging.INFO, format=FORMAT)\n",
    "conf_path = 'confs/examples/Saitama.conf'\n",
    "f = open(conf_path)\n",
    "conf_text = f.read()\n",
    "f.close()\n",
    "conf_text = conf_text.replace('{TOREPLACE}', AppearanceDescription)\n",
    "# print(conf_text)\n",
    "conf = ConfigFactory.parse_string(conf_text)\n",
    "print(\"Prompt: {}\".format(conf.get_string('clip.prompt')))\n",
    "print(\"Face Prompt: {}\".format(conf.get_string('clip.face_prompt')))\n",
    "print(\"Back Prompt: {}\".format(conf.get_string('clip.back_prompt')))"
   ],
   "outputs": [
    {
     "output_type": "stream",
     "name": "stdout",
     "text": [
      "Prompt: a 3D rendering of Saitama in unreal engine\n",
      "Face Prompt: a 3D rendering of the face of Saitama in unreal engine\n",
      "Back Prompt: a 3D rendering of the back of Saitama in unreal engine\n"
     ]
    }
   ],
   "metadata": {
    "cellView": "form",
    "colab": {
     "base_uri": "https://localhost:8080/"
    },
    "execution": {
     "iopub.execute_input": "2022-06-03T22:17:06.161918Z",
     "iopub.status.busy": "2022-06-03T22:17:06.161396Z",
     "iopub.status.idle": "2022-06-03T22:17:06.220291Z",
     "shell.execute_reply": "2022-06-03T22:17:06.219754Z",
     "shell.execute_reply.started": "2022-06-03T22:17:06.161897Z"
    },
    "id": "jZECRMMz65bv",
    "outputId": "0352c2e7-796e-492d-8b2f-99dda4f3a04f"
   }
  },
  {
   "cell_type": "code",
   "execution_count": 7,
   "source": [
    "#@title Start the Generation!\n",
    "runner = Runner(conf_path, 'train_clip', 'smpl', False, True, conf)\n",
    "runner.init_clip()\n",
    "runner.init_smpl()\n",
    "runner.train_clip()"
   ],
   "outputs": [
    {
     "output_type": "stream",
     "name": "stdout",
     "text": [
      "Load data: Begin\n"
     ]
    },
    {
     "output_type": "stream",
     "name": "stderr",
     "text": [
      "\n",
      "KeyboardInterrupt\n",
      "\n"
     ]
    }
   ],
   "metadata": {
    "cellView": "form",
    "colab": {
     "base_uri": "https://localhost:8080/"
    },
    "execution": {
     "iopub.execute_input": "2022-06-03T22:17:07.117693Z",
     "iopub.status.busy": "2022-06-03T22:17:07.117321Z",
     "iopub.status.idle": "2022-06-03T22:17:09.797627Z",
     "shell.execute_reply": "2022-06-03T22:17:09.797038Z",
     "shell.execute_reply.started": "2022-06-03T22:17:07.117668Z"
    },
    "id": "n0UfhfgMAhrl",
    "outputId": "0c6bc1a4-5dae-479a-ff5d-db573af76f09"
   }
  },
  {
   "cell_type": "code",
   "execution_count": 9,
   "source": [
    "#@title Generate a Video of Optimization Process (RGB)\n",
    "\n",
    "import os\n",
    "from tqdm import tqdm\n",
    "import numpy as np\n",
    "from IPython import display\n",
    "from PIL import Image\n",
    "from base64 import b64encode\n",
    "\n",
    "image_folder = 'exp/smpl/examples/Saitama/validations_extra_fine'\n",
    "image_fname = os.listdir(image_folder)\n",
    "image_fname = sorted(image_fname)\n",
    "image_fname = [os.path.join(image_folder, f) for f in image_fname]\n",
    "\n",
    "init_frame = 1\n",
    "last_frame = len(image_fname)\n",
    "min_fps = 10\n",
    "max_fps = 60\n",
    "total_frames = last_frame - init_frame\n",
    "\n",
    "length = 15 #Desired time of the video in seconds\n",
    "\n",
    "frames = []\n",
    "for i in range(init_frame, last_frame): #\n",
    "    frames.append(Image.open(image_fname[i]))\n",
    "\n",
    "#fps = last_frame/10\n",
    "fps = np.clip(total_frames/length,min_fps,max_fps)\n",
    "\n",
    "from subprocess import Popen, PIPE\n",
    "p = Popen(['ffmpeg', '-y', '-f', 'image2pipe', '-vcodec', 'png', '-r', str(fps), '-i', '-', '-vcodec', 'libx264', '-r', str(fps), '-pix_fmt', 'yuv420p', '-crf', '17', '-preset', 'veryslow', 'video.mp4'], stdin=PIPE)\n",
    "for im in tqdm(frames):\n",
    "    im.save(p.stdin, 'PNG')\n",
    "p.stdin.close()\n",
    "p.wait()\n",
    "mp4 = open('video.mp4','rb').read()\n",
    "data_url = \"data:video/mp4;base64,\" + b64encode(mp4).decode()\n",
    "\n",
    "display.HTML(\"\"\"\n",
    "<video width=400 controls>\n",
    "      <source src=\"%s\" type=\"video/mp4\">\n",
    "</video>\n",
    "\"\"\" % data_url)"
   ],
   "outputs": [
    {
     "output_type": "stream",
     "name": "stderr",
     "text": [
      "  0%|          | 0/29 [00:00<?, ?it/s]ffmpeg version 4.2.4-1ubuntu0.1 Copyright (c) 2000-2020 the FFmpeg developers\n",
      "  built with gcc 9 (Ubuntu 9.3.0-10ubuntu2)\n",
      "  configuration: --prefix=/usr --extra-version=1ubuntu0.1 --toolchain=hardened --libdir=/usr/lib/x86_64-linux-gnu --incdir=/usr/include/x86_64-linux-gnu --arch=amd64 --enable-gpl --disable-stripping --enable-avresample --disable-filter=resample --enable-avisynth --enable-gnutls --enable-ladspa --enable-libaom --enable-libass --enable-libbluray --enable-libbs2b --enable-libcaca --enable-libcdio --enable-libcodec2 --enable-libflite --enable-libfontconfig --enable-libfreetype --enable-libfribidi --enable-libgme --enable-libgsm --enable-libjack --enable-libmp3lame --enable-libmysofa --enable-libopenjpeg --enable-libopenmpt --enable-libopus --enable-libpulse --enable-librsvg --enable-librubberband --enable-libshine --enable-libsnappy --enable-libsoxr --enable-libspeex --enable-libssh --enable-libtheora --enable-libtwolame --enable-libvidstab --enable-libvorbis --enable-libvpx --enable-libwavpack --enable-libwebp --enable-libx265 --enable-libxml2 --enable-libxvid --enable-libzmq --enable-libzvbi --enable-lv2 --enable-omx --enable-openal --enable-opencl --enable-opengl --enable-sdl2 --enable-libdc1394 --enable-libdrm --enable-libiec61883 --enable-nvenc --enable-chromaprint --enable-frei0r --enable-libx264 --enable-shared\n",
      "  libavutil      56. 31.100 / 56. 31.100\n",
      "  libavcodec     58. 54.100 / 58. 54.100\n",
      "  libavformat    58. 29.100 / 58. 29.100\n",
      "  libavdevice    58.  8.100 / 58.  8.100\n",
      "  libavfilter     7. 57.100 /  7. 57.100\n",
      "  libavresample   4.  0.  0 /  4.  0.  0\n",
      "  libswscale      5.  5.100 /  5.  5.100\n",
      "  libswresample   3.  5.100 /  3.  5.100\n",
      "  libpostproc    55.  5.100 / 55.  5.100\n",
      "100%|██████████| 29/29 [00:00<00:00, 147.29it/s]\n",
      "Input #0, image2pipe, from 'pipe:':\n",
      "  Duration: N/A, bitrate: N/A\n",
      "    Stream #0:0: Video: png, rgb24(pc), 256x256, 10 fps, 10 tbr, 10 tbn, 10 tbc\n",
      "Stream mapping:\n",
      "  Stream #0:0 -> #0:0 (png (native) -> h264 (libx264))\n",
      "[libx264 @ 0x55e8623786c0] using cpu capabilities: MMX2 SSE2Fast SSSE3 SSE4.2 AVX FMA3 BMI2 AVX2\n",
      "[libx264 @ 0x55e8623786c0] profile High, level 2.1\n",
      "[libx264 @ 0x55e8623786c0] 264 - core 155 r2917 0a84d98 - H.264/MPEG-4 AVC codec - Copyleft 2003-2018 - http://www.videolan.org/x264.html - options: cabac=1 ref=16 deblock=1:0:0 analyse=0x3:0x133 me=umh subme=10 psy=1 psy_rd=1.00:0.00 mixed_ref=1 me_range=24 chroma_me=1 trellis=2 8x8dct=1 cqm=0 deadzone=21,11 fast_pskip=1 chroma_qp_offset=-2 threads=8 lookahead_threads=1 sliced_threads=0 nr=0 decimate=1 interlaced=0 bluray_compat=0 constrained_intra=0 bframes=8 b_pyramid=2 b_adapt=2 b_bias=0 direct=3 weightb=1 open_gop=0 weightp=2 keyint=250 keyint_min=10 scenecut=40 intra_refresh=0 rc_lookahead=60 rc=crf mbtree=1 crf=17.0 qcomp=0.60 qpmin=0 qpmax=69 qpstep=4 ip_ratio=1.40 aq=1:1.00\n",
      "Output #0, mp4, to 'video.mp4':\n",
      "  Metadata:\n",
      "    encoder         : Lavf58.29.100\n",
      "    Stream #0:0: Video: h264 (libx264) (avc1 / 0x31637661), yuv420p, 256x256, q=-1--1, 10 fps, 10240 tbn, 10 tbc\n",
      "    Metadata:\n",
      "      encoder         : Lavc58.54.100 libx264\n",
      "    Side data:\n",
      "      cpb: bitrate max/min/avg: 0/0/0 buffer size: 0 vbv_delay: -1\n",
      "frame=   29 fps=0.0 q=-1.0 Lsize=      38kB time=00:00:02.60 bitrate= 121.2kbits/s speed=27.5x    \n",
      "video:37kB audio:0kB subtitle:0kB other streams:0kB global headers:0kB muxing overhead: 2.887955%\n",
      "[libx264 @ 0x55e8623786c0] frame I:1     Avg QP: 4.77  size:  3090\n",
      "[libx264 @ 0x55e8623786c0] frame P:5     Avg QP:16.94  size:  2458\n",
      "[libx264 @ 0x55e8623786c0] frame B:23    Avg QP:21.71  size:   966\n",
      "[libx264 @ 0x55e8623786c0] consecutive B-frames:  3.4%  0.0% 10.3% 13.8% 17.2%  0.0% 24.1%  0.0% 31.0%\n",
      "[libx264 @ 0x55e8623786c0] mb I  I16..4: 73.4%  2.3% 24.2%\n",
      "[libx264 @ 0x55e8623786c0] mb P  I16..4:  0.0%  1.7%  2.1%  P16..4: 11.2%  9.1%  5.5%  1.2%  0.6%    skip:68.5%\n",
      "[libx264 @ 0x55e8623786c0] mb B  I16..4:  0.0%  0.4%  0.6%  B16..8: 14.6%  8.3%  2.7%  direct: 4.1%  skip:69.4%  L0:32.0% L1:35.3% BI:32.7%\n",
      "[libx264 @ 0x55e8623786c0] 8x8 transform intra:13.6% inter:25.7%\n",
      "[libx264 @ 0x55e8623786c0] direct mvs  spatial:69.6% temporal:30.4%\n",
      "[libx264 @ 0x55e8623786c0] coded y,uvDC,uvAC intra: 38.4% 46.3% 44.6% inter: 10.8% 13.6% 5.7%\n",
      "[libx264 @ 0x55e8623786c0] i16 v,h,dc,p: 90%  0% 10%  0%\n",
      "[libx264 @ 0x55e8623786c0] i8 v,h,dc,ddl,ddr,vr,hd,vl,hu:  8%  9% 14%  6% 13% 12% 15%  9% 15%\n",
      "[libx264 @ 0x55e8623786c0] i4 v,h,dc,ddl,ddr,vr,hd,vl,hu: 26%  6% 17%  7%  9% 11%  8%  8%  8%\n",
      "[libx264 @ 0x55e8623786c0] i8c dc,h,v,p: 72% 12% 11%  5%\n",
      "[libx264 @ 0x55e8623786c0] Weighted P-Frames: Y:20.0% UV:20.0%\n",
      "[libx264 @ 0x55e8623786c0] ref P L0: 79.5%  7.8%  7.9%  2.5%  1.5%  0.6%  0.1%\n",
      "[libx264 @ 0x55e8623786c0] ref B L0: 76.2% 16.1%  4.6%  1.9%  1.0%  0.3%\n",
      "[libx264 @ 0x55e8623786c0] ref B L1: 85.7% 14.3%\n",
      "[libx264 @ 0x55e8623786c0] kb/s:103.74\n"
     ]
    },
    {
     "output_type": "execute_result",
     "data": {
      "text/html": [
       "\n",
       "<video width=400 controls>\n",
       "      <source src=\"data:video/mp4;base64,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\" type=\"video/mp4\">\n",
       "</video>\n"
      ],
      "text/plain": [
       "<IPython.core.display.HTML object>"
      ]
     },
     "metadata": {},
     "execution_count": 9
    }
   ],
   "metadata": {
    "cellView": "form",
    "colab": {
     "base_uri": "https://localhost:8080/",
     "height": 439
    },
    "execution": {
     "iopub.execute_input": "2022-06-03T22:21:08.781247Z",
     "iopub.status.busy": "2022-06-03T22:21:08.781056Z",
     "iopub.status.idle": "2022-06-03T22:21:09.193836Z",
     "shell.execute_reply": "2022-06-03T22:21:09.193361Z",
     "shell.execute_reply.started": "2022-06-03T22:21:08.781228Z"
    },
    "id": "SIzybbXwG997",
    "outputId": "75fb2ec9-a11e-427e-8c51-0753024c6e0b"
   }
  },
  {
   "cell_type": "code",
   "execution_count": null,
   "source": [
    "#@title Generate a Video of Optimization Process (Normal)\n",
    "\n",
    "import os\n",
    "from tqdm import tqdm\n",
    "import numpy as np\n",
    "from IPython import display\n",
    "from PIL import Image\n",
    "from base64 import b64encode\n",
    "\n",
    "image_folder = 'exp/smpl/examples/Saitama/normals'\n",
    "image_fname = os.listdir(image_folder)\n",
    "image_fname = sorted(image_fname)\n",
    "image_fname = [os.path.join(image_folder, f) for f in image_fname]\n",
    "\n",
    "init_frame = 1\n",
    "last_frame = len(image_fname)\n",
    "min_fps = 10\n",
    "max_fps = 60\n",
    "total_frames = last_frame - init_frame\n",
    "\n",
    "length = 15 #Desired time of the video in seconds\n",
    "\n",
    "frames = []\n",
    "for i in range(init_frame, last_frame): #\n",
    "    frames.append(Image.open(image_fname[i]))\n",
    "\n",
    "#fps = last_frame/10\n",
    "fps = np.clip(total_frames/length,min_fps,max_fps)\n",
    "\n",
    "from subprocess import Popen, PIPE\n",
    "p = Popen(['ffmpeg', '-y', '-f', 'image2pipe', '-vcodec', 'png', '-r', str(fps), '-i', '-', '-vcodec', 'libx264', '-r', str(fps), '-pix_fmt', 'yuv420p', '-crf', '17', '-preset', 'veryslow', 'video_normal.mp4'], stdin=PIPE)\n",
    "for im in tqdm(frames):\n",
    "    im.save(p.stdin, 'PNG')\n",
    "p.stdin.close()\n",
    "p.wait()\n",
    "mp4 = open('video_normal.mp4','rb').read()\n",
    "data_url = \"data:video/mp4;base64,\" + b64encode(mp4).decode()\n",
    "\n",
    "display.HTML(\"\"\"\n",
    "<video width=400 controls>\n",
    "      <source src=\"%s\" type=\"video/mp4\">\n",
    "</video>\n",
    "\"\"\" % data_url)"
   ],
   "outputs": [],
   "metadata": {
    "cellView": "form",
    "colab": {
     "base_uri": "https://localhost:8080/",
     "height": 439
    },
    "execution": {
     "iopub.execute_input": "2022-06-03T22:11:43.452653Z",
     "iopub.status.busy": "2022-06-03T22:11:43.452433Z",
     "iopub.status.idle": "2022-06-03T22:11:44.164288Z",
     "shell.execute_reply": "2022-06-03T22:11:44.163659Z",
     "shell.execute_reply.started": "2022-06-03T22:11:43.452634Z"
    },
    "id": "KaKZ0fydYz_F",
    "outputId": "50e79f41-66aa-4f6d-91d8-768d47370b7e"
   }
  },
  {
   "cell_type": "markdown",
   "source": [
    "#### Finally, don't forget to download the extracted meshes at `AvatarCLIP/AvatarGen/AppearanceGen/exp/smpl/example/meshes/*.ply`"
   ],
   "metadata": {
    "id": "uUsebvU8QzFF"
   }
  },
  {
   "cell_type": "code",
   "execution_count": null,
   "source": [],
   "outputs": [],
   "metadata": {
    "id": "rOtGNxpVgwW0"
   }
  }
 ],
 "metadata": {
  "accelerator": "GPU",
  "colab": {
   "collapsed_sections": [],
   "name": "AvatarCLIP.ipynb",
   "provenance": []
  },
  "kernelspec": {
   "display_name": "Python 3 (ipykernel)",
   "language": "python",
   "name": "python3"
  },
  "language_info": {
   "codemirror_mode": {
    "name": "ipython",
    "version": 3
   },
   "file_extension": ".py",
   "mimetype": "text/x-python",
   "name": "python",
   "nbconvert_exporter": "python",
   "pygments_lexer": "ipython3",
   "version": "3.8.12"
  }
 },
 "nbformat": 4,
 "nbformat_minor": 4
}